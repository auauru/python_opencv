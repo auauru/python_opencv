{
 "cells": [
  {
   "cell_type": "markdown",
   "metadata": {},
   "source": [
    "# 安裝 opencv方法\n",
    "pip install opencv-python\n",
    "\n",
    "## 參考資料\n",
    "(安裝)https://daimom3020.blogspot.com/2018/03/windows-7-python-36-opencv.html\n",
    "\n",
    "(圖片控制)https://blog.gtwang.org/programming/opencv-basic-image-read-and-write-tutorial/"
   ]
  },
  {
   "cell_type": "code",
   "execution_count": 1,
   "metadata": {},
   "outputs": [],
   "source": [
    "import cv2  #讀入 opencv模組"
   ]
  },
  {
   "cell_type": "code",
   "execution_count": 2,
   "metadata": {},
   "outputs": [],
   "source": [
    "img = cv2.imread('test_1.jpg') #圖片載入\n",
    "img = cv2.cvtColor(img, cv2.COLOR_BGR2GRAY) #轉灰階"
   ]
  },
  {
   "cell_type": "code",
   "execution_count": 3,
   "metadata": {},
   "outputs": [],
   "source": [
    "cv2.imshow('test_1', img) #顯示 ('視窗名稱',顯示的物件)\n",
    "cv2.waitKey(0) #讀取鍵盤輸入\n",
    "cv2.destroyAllWindows() #關閉顯示視窗"
   ]
  },
  {
   "cell_type": "code",
   "execution_count": null,
   "metadata": {},
   "outputs": [],
   "source": []
  }
 ],
 "metadata": {
  "kernelspec": {
   "display_name": "Python 3",
   "language": "python",
   "name": "python3"
  },
  "language_info": {
   "codemirror_mode": {
    "name": "ipython",
    "version": 3
   },
   "file_extension": ".py",
   "mimetype": "text/x-python",
   "name": "python",
   "nbconvert_exporter": "python",
   "pygments_lexer": "ipython3",
   "version": "3.7.0"
  }
 },
 "nbformat": 4,
 "nbformat_minor": 2
}
