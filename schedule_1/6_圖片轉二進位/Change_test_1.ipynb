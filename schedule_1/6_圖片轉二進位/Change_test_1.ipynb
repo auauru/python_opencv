{
 "cells": [
  {
   "cell_type": "code",
   "execution_count": 1,
   "metadata": {},
   "outputs": [],
   "source": [
    "#載入模組\n",
    "import cv2\n",
    "import numpy as np\n",
    "import struct"
   ]
  },
  {
   "cell_type": "code",
   "execution_count": 2,
   "metadata": {},
   "outputs": [],
   "source": [
    "img = cv2.imread(\"test_1.jpg\") #載入圖片"
   ]
  },
  {
   "cell_type": "markdown",
   "metadata": {},
   "source": [
    "# 方法一\n",
    "## 參考資料\n",
    "https://blog.csdn.net/m0_37407756/article/details/80020560"
   ]
  },
  {
   "cell_type": "code",
   "execution_count": 3,
   "metadata": {},
   "outputs": [],
   "source": [
    "img_encode = cv2.imencode('.jpg', img)[1]  # 將img編碼為數據\n",
    "data_encode = np.array(img_encode)  #轉換為標準陣列\n",
    "str_encod = data_encode.tostring()  #轉換為字串"
   ]
  },
  {
   "cell_type": "code",
   "execution_count": 4,
   "metadata": {},
   "outputs": [],
   "source": [
    "nparr = np.frombuffer(str_encod, np.uint8)  #轉換回陣列\n",
    "img_decode = cv2.imdecode(data_encode, cv2.IMREAD_COLOR)  #將數據編碼回img"
   ]
  },
  {
   "cell_type": "code",
   "execution_count": 5,
   "metadata": {},
   "outputs": [],
   "source": [
    "#顯示測試\n",
    "cv2.imshow(\"img_decode\", img_decode)  \n",
    "cv2.waitKey()\n",
    "cv2.destroyAllWindows()"
   ]
  },
  {
   "cell_type": "markdown",
   "metadata": {},
   "source": [
    "# 方法二 待研究\n",
    "## 參考資料\n",
    "https://blog.csdn.net/t8116189520/article/details/78889327"
   ]
  },
  {
   "cell_type": "raw",
   "metadata": {},
   "source": [
    "# rows = img.shape[0]\n",
    "cols = img.shape[1]\n",
    "channels = img.shape[2]\n",
    "\n",
    "#轉換二進位檔\n",
    "fileSave = open('patch.bin','wb')\n",
    "for step in range(0,rows):\n",
    "    for step2 in range(0,cols):\n",
    "        fileSave.write(img[step,step2,2])\n",
    "for step in range(0,rows):\n",
    "    for step2 in range(0,cols):\n",
    "        fileSave.write(img[step,step2,1])\n",
    "for step in range(0,rows):\n",
    "    for step2 in range(0,cols):\n",
    "        fileSave.write(img[step,step2,0])\n",
    "fileSave.close()\n",
    "\n",
    "#轉回圖檔\n",
    "fileReader = open('patch.bin','rb')\n",
    "imageRead = np.zeros(img.shape,np.uint8)\n",
    "for step in range(0,rows):\n",
    "    for step2 in range(0,cols):\n",
    "        a = struct.unpack(\"B\",fileReader.read(1))\n",
    "        imageRead[step,step2,2] = a[0]\n",
    "for step in range(0,rows):\n",
    "    for step2 in range(0,cols):\n",
    "        a = struct.unpack(\"b\",fileReader.read(1))\n",
    "        imageRead[step,step2,1] = a[0]\n",
    "for step in range(0,rows):\n",
    "    for step2 in range(0,cols):\n",
    "        a = struct.unpack(\"b\",fileReader.read(1))\n",
    "        imageRead[step,step2,0] = a[0]\n",
    "fileReader.close()\n",
    "\n",
    "#測試\n",
    "cv2.imshow(\"source\",img)\n",
    "cv2.imshow(\"read\",imageRead)\n",
    "cv2.waitKey(0)\n",
    "cv2.destroyAllWindows() #關閉視窗"
   ]
  }
 ],
 "metadata": {
  "kernelspec": {
   "display_name": "Python 3",
   "language": "python",
   "name": "python3"
  },
  "language_info": {
   "codemirror_mode": {
    "name": "ipython",
    "version": 3
   },
   "file_extension": ".py",
   "mimetype": "text/x-python",
   "name": "python",
   "nbconvert_exporter": "python",
   "pygments_lexer": "ipython3",
   "version": "3.7.0"
  }
 },
 "nbformat": 4,
 "nbformat_minor": 2
}
