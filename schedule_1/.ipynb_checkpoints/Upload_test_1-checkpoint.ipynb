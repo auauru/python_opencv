{
 "cells": [
  {
   "cell_type": "code",
   "execution_count": 1,
   "metadata": {},
   "outputs": [],
   "source": [
    "#載入模組\n",
    "import cv2\n",
    "import numpy as np\n",
    "import struct\n",
    "import MySQLdb"
   ]
  },
  {
   "cell_type": "code",
   "execution_count": 2,
   "metadata": {},
   "outputs": [],
   "source": [
    "imagePath = \"test_3.jpg\" #照片名稱\n",
    "cascPath = 'haarcascade_frontalface_alt.xml' #訓練集名稱"
   ]
  },
  {
   "cell_type": "code",
   "execution_count": 3,
   "metadata": {},
   "outputs": [],
   "source": [
    "def Change (_img):\n",
    "   img_encode = cv2.imencode('.jpg', _img)[1]  # 將img編碼為數據\n",
    "   data_encode = np.array(img_encode)  #轉換為標準陣列\n",
    "   str_encod = data_encode.tostring()  #轉換為字串\n",
    "   return str_encod"
   ]
  },
  {
   "cell_type": "code",
   "execution_count": 8,
   "metadata": {
    "scrolled": false
   },
   "outputs": [],
   "source": [
    "def Insert (_str_encod):\n",
    "   #連接資料庫\n",
    "   db = MySQLdb.connect(\n",
    "       host=\"localhost\", #伺服器位址\n",
    "       user=\"root\", #使用者名稱\n",
    "       passwd=\"\", #使用者密碼\n",
    "       db=\"test\", #資料庫名稱\n",
    "       charset=\"utf8\" #設定編碼\n",
    "   )\n",
    "   cursor = db.cursor() #資料整合為指標\n",
    "   test = [_str_encod]\n",
    "   cities = (test,imagePath)\n",
    "   sql = \"INSERT INTO img_test (img,name) values (%s,%s);\"\n",
    "   cursor.execute(sql, cities)\n",
    "   db.commit()\n",
    "   db.close()"
   ]
  },
  {
   "cell_type": "code",
   "execution_count": 9,
   "metadata": {},
   "outputs": [],
   "source": [
    "#人臉辨識\n",
    "\n",
    "facecascade = cv2.CascadeClassifier(cascPath) #訓練集載入\n",
    "img = cv2.imread(imagePath) #圖片載入\n",
    "#img = cv2.cvtColor(img, cv2.COLOR_BGR2GRAY) #轉灰階\n",
    "\n",
    "faces = facecascade.detectMultiScale(\n",
    "   img,  #輸入圖片\n",
    "   scaleFactor = 1.1,  #搜索範圍比例參數\n",
    "   minNeighbors = 10,  #檢測目標距離差\n",
    "   minSize = (30, 30),  #目標範圍\n",
    "   flags = cv2.CASCADE_SCALE_IMAGE  #\n",
    ")\n",
    "\n",
    "i = 0\n",
    "for (x, y, w, h) in faces:\n",
    "   crop_img = img[y:y+h, x:x+w] # 裁切圖片\n",
    "   str_encod = Change (crop_img)\n",
    "   Insert (str_encod)\n",
    "   i+=1"
   ]
  },
  {
   "cell_type": "code",
   "execution_count": null,
   "metadata": {},
   "outputs": [],
   "source": []
  }
 ],
 "metadata": {
  "kernelspec": {
   "display_name": "Python 3",
   "language": "python",
   "name": "python3"
  },
  "language_info": {
   "codemirror_mode": {
    "name": "ipython",
    "version": 3
   },
   "file_extension": ".py",
   "mimetype": "text/x-python",
   "name": "python",
   "nbconvert_exporter": "python",
   "pygments_lexer": "ipython3",
   "version": "3.7.0"
  }
 },
 "nbformat": 4,
 "nbformat_minor": 2
}
