{
 "cells": [
  {
   "cell_type": "markdown",
   "metadata": {},
   "source": [
    "# 參考資料\n",
    "https://python.freelycode.com/contribution/detail/36"
   ]
  },
  {
   "cell_type": "code",
   "execution_count": 1,
   "metadata": {},
   "outputs": [],
   "source": [
    "import cv2  #載入模組"
   ]
  },
  {
   "cell_type": "code",
   "execution_count": 2,
   "metadata": {},
   "outputs": [],
   "source": [
    "imagePath = \"test_3.jpg\" #照片名稱\n",
    "cascPath = 'haarcascade_frontalface_alt.xml' #訓練集名稱"
   ]
  },
  {
   "cell_type": "code",
   "execution_count": 3,
   "metadata": {},
   "outputs": [],
   "source": [
    "facecascade = cv2.CascadeClassifier(cascPath) #訓練集載入\n",
    "img = cv2.imread(imagePath) #圖片載入\n",
    "#img = cv2.cvtColor(img, cv2.COLOR_BGR2GRAY) #轉灰階"
   ]
  },
  {
   "cell_type": "code",
   "execution_count": 4,
   "metadata": {},
   "outputs": [],
   "source": [
    "faces = facecascade.detectMultiScale(\n",
    "   img,  #輸入圖片\n",
    "   scaleFactor = 1.1,  #搜索範圍比例參數\n",
    "   minNeighbors = 10,  #檢測目標距離差\n",
    "   minSize = (30, 30),  #目標範圍\n",
    "   flags = cv2.CASCADE_SCALE_IMAGE  #待確認\n",
    ")"
   ]
  },
  {
   "cell_type": "code",
   "execution_count": 5,
   "metadata": {},
   "outputs": [],
   "source": [
    "for (x, y, w, h) in faces:\n",
    "   cv2.rectangle(img, (x, y), (x+w, y+h), (0, 255, 0), 2) #畫出綠色四邊形"
   ]
  },
  {
   "cell_type": "code",
   "execution_count": 6,
   "metadata": {},
   "outputs": [],
   "source": [
    "cv2.namedWindow('test_1', cv2.WINDOW_NORMAL) #設定視窗為可調式\n",
    "cv2.imshow(\"test_1\" ,img) #顯示圖片\n",
    "cv2.waitKey(0) #等待輸入\n",
    "cv2.destroyAllWindows() #關閉視窗"
   ]
  },
  {
   "cell_type": "code",
   "execution_count": null,
   "metadata": {},
   "outputs": [],
   "source": []
  }
 ],
 "metadata": {
  "kernelspec": {
   "display_name": "Python 3",
   "language": "python",
   "name": "python3"
  },
  "language_info": {
   "codemirror_mode": {
    "name": "ipython",
    "version": 3
   },
   "file_extension": ".py",
   "mimetype": "text/x-python",
   "name": "python",
   "nbconvert_exporter": "python",
   "pygments_lexer": "ipython3",
   "version": "3.7.0"
  }
 },
 "nbformat": 4,
 "nbformat_minor": 2
}
