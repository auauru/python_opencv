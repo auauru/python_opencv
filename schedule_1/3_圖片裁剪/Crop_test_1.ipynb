{
 "cells": [
  {
   "cell_type": "markdown",
   "metadata": {},
   "source": [
    "# 參考資料\n",
    "https://blog.gtwang.org/programming/how-to-crop-an-image-in-opencv-using-python/"
   ]
  },
  {
   "cell_type": "code",
   "execution_count": 1,
   "metadata": {},
   "outputs": [],
   "source": [
    "import cv2 #載入模組"
   ]
  },
  {
   "cell_type": "code",
   "execution_count": 2,
   "metadata": {},
   "outputs": [],
   "source": [
    "img = cv2.imread(\"cat.jpg\") #圖片載入"
   ]
  },
  {
   "cell_type": "code",
   "execution_count": 3,
   "metadata": {},
   "outputs": [],
   "source": [
    "# 裁切區域的 x 與 y 座標（左上角）\n",
    "x = 120\n",
    "y = 5\n",
    "\n",
    "# 裁切區域的長度與寬度\n",
    "w = 450\n",
    "h = 350\n",
    "\n",
    "# 裁切圖片\n",
    "crop_img = img[y:y+h, x:x+w]"
   ]
  },
  {
   "cell_type": "code",
   "execution_count": 4,
   "metadata": {},
   "outputs": [],
   "source": [
    "cv2.namedWindow('test_1', cv2.WINDOW_NORMAL) #設定視窗為可調式\n",
    "cv2.imshow(\"test_1\" ,crop_img) #顯示圖片\n",
    "cv2.waitKey(0) #等待輸入\n",
    "cv2.destroyAllWindows() #關閉視窗"
   ]
  },
  {
   "cell_type": "code",
   "execution_count": null,
   "metadata": {},
   "outputs": [],
   "source": []
  }
 ],
 "metadata": {
  "kernelspec": {
   "display_name": "Python 3",
   "language": "python",
   "name": "python3"
  },
  "language_info": {
   "codemirror_mode": {
    "name": "ipython",
    "version": 3
   },
   "file_extension": ".py",
   "mimetype": "text/x-python",
   "name": "python",
   "nbconvert_exporter": "python",
   "pygments_lexer": "ipython3",
   "version": "3.7.0"
  }
 },
 "nbformat": 4,
 "nbformat_minor": 2
}
